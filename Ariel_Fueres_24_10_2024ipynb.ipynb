{
  "nbformat": 4,
  "nbformat_minor": 0,
  "metadata": {
    "colab": {
      "provenance": [],
      "authorship_tag": "ABX9TyN+guObEtJYLtnbKBhS72QL",
      "include_colab_link": true
    },
    "kernelspec": {
      "name": "python3",
      "display_name": "Python 3"
    },
    "language_info": {
      "name": "python"
    }
  },
  "cells": [
    {
      "cell_type": "markdown",
      "metadata": {
        "id": "view-in-github",
        "colab_type": "text"
      },
      "source": [
        "<a href=\"https://colab.research.google.com/github/ArielAlexanderFueres/Inteligencia-Artificial/blob/main/Ariel_Fueres_24_10_2024ipynb.ipynb\" target=\"_parent\"><img src=\"https://colab.research.google.com/assets/colab-badge.svg\" alt=\"Open In Colab\"/></a>"
      ]
    },
    {
      "cell_type": "code",
      "source": [
        "import sys\n",
        "print(sys.version)"
      ],
      "metadata": {
        "colab": {
          "base_uri": "https://localhost:8080/"
        },
        "id": "iwb3jOn-rx5P",
        "outputId": "7dee8ea8-c346-4152-a043-faaa80691ce5"
      },
      "execution_count": null,
      "outputs": [
        {
          "output_type": "stream",
          "name": "stdout",
          "text": [
            "3.10.12 (main, Sep 11 2024, 15:47:36) [GCC 11.4.0]\n"
          ]
        }
      ]
    },
    {
      "cell_type": "code",
      "source": [
        "numero=5\n",
        "tmp1=\"Ariel\"\n",
        "print(numero)\n",
        "print(f\"Mi nombre es {tmp1}\")\n",
        "print(numero+5)\n",
        "print(numero-3)\n",
        "print(numero*3)\n",
        "print(numero/3)\n",
        "print(numero%3)\n",
        "print(numero**3)\n",
        "numero*2\n",
        "print(numero)\n",
        "print(type(numero))\n",
        "\n"
      ],
      "metadata": {
        "colab": {
          "base_uri": "https://localhost:8080/"
        },
        "id": "I8-5ytcWsoZM",
        "outputId": "2c409772-9680-47c9-83fc-7a2704f376f3"
      },
      "execution_count": null,
      "outputs": [
        {
          "output_type": "stream",
          "name": "stdout",
          "text": [
            "5\n",
            "Mi nombre es Ariel\n",
            "10\n",
            "2\n",
            "15\n",
            "1.6666666666666667\n",
            "2\n",
            "125\n",
            "5\n",
            "<class 'int'>\n"
          ]
        }
      ]
    },
    {
      "cell_type": "code",
      "source": [
        "t=True\n",
        "f=False\n",
        "print(type(t))\n",
        "print(t and f)\n",
        "print(t or f)\n",
        "print(not t)\n",
        "print(t!=f)"
      ],
      "metadata": {
        "colab": {
          "base_uri": "https://localhost:8080/"
        },
        "id": "qr4cKmZbvmwn",
        "outputId": "419ee910-3b2b-4d08-9d8b-f3309e17c615"
      },
      "execution_count": null,
      "outputs": [
        {
          "output_type": "stream",
          "name": "stdout",
          "text": [
            "<class 'bool'>\n",
            "False\n",
            "True\n",
            "False\n",
            "True\n"
          ]
        }
      ]
    },
    {
      "cell_type": "code",
      "source": [
        "aux1='hello'\n",
        "aux2='world'\n",
        "print(aux1+aux2)\n",
        "print(aux1*4)\n",
        "print(aux1.capitalize())\n",
        "print(aux1.upper())\n",
        "aux3='ARIEL'\n",
        "print(aux3.lower())\n",
        "\n",
        "\n"
      ],
      "metadata": {
        "colab": {
          "base_uri": "https://localhost:8080/"
        },
        "id": "lhKd7-qIwe3Y",
        "outputId": "e31f9c31-3e7f-4ec7-88cc-b6b21104e678"
      },
      "execution_count": null,
      "outputs": [
        {
          "output_type": "stream",
          "name": "stdout",
          "text": [
            "helloworld\n",
            "hellohellohellohello\n",
            "Hello\n",
            "HELLO\n",
            "ariel\n"
          ]
        }
      ]
    },
    {
      "cell_type": "code",
      "source": [
        "aux2=list()\n",
        "aux2.append(4)\n",
        "aux2.append(\"ariel\")\n",
        "aux2.append(True)\n",
        "print(aux2)\n",
        "print(aux2[-1])\n",
        "print('***************')\n",
        "print(aux2[1])\n",
        "aux2[1]='Alexander'\n",
        "print(aux2)\n",
        "aux3=[1,2,3, 'Alexander',True,False]\n",
        "print(aux3)\n",
        "aux3.pop()\n",
        "print(aux3)\n",
        "\n",
        "\n"
      ],
      "metadata": {
        "colab": {
          "base_uri": "https://localhost:8080/"
        },
        "id": "5nB5CLgVxxFT",
        "outputId": "98723260-e35e-49ae-d4e9-8dbe6f7d844d"
      },
      "execution_count": null,
      "outputs": [
        {
          "output_type": "stream",
          "name": "stdout",
          "text": [
            "[4, 'ariel', True]\n",
            "True\n",
            "***************\n",
            "ariel\n",
            "[4, 'Alexander', True]\n",
            "[1, 2, 3, 'Alexander', True, False]\n",
            "[1, 2, 3, 'Alexander', True]\n"
          ]
        }
      ]
    },
    {
      "cell_type": "code",
      "source": [
        "tmp1=list(range(100))\n",
        "for x in tmp1:\n",
        "  print(f\"El valor es {x}\")"
      ],
      "metadata": {
        "colab": {
          "base_uri": "https://localhost:8080/"
        },
        "id": "RQQY7Ntn0eLc",
        "outputId": "b63bc812-5dad-48ff-8eaf-08b20c242df6"
      },
      "execution_count": null,
      "outputs": [
        {
          "output_type": "stream",
          "name": "stdout",
          "text": [
            "El valor es 0\n",
            "El valor es 1\n",
            "El valor es 2\n",
            "El valor es 3\n",
            "El valor es 4\n",
            "El valor es 5\n",
            "El valor es 6\n",
            "El valor es 7\n",
            "El valor es 8\n",
            "El valor es 9\n",
            "El valor es 10\n",
            "El valor es 11\n",
            "El valor es 12\n",
            "El valor es 13\n",
            "El valor es 14\n",
            "El valor es 15\n",
            "El valor es 16\n",
            "El valor es 17\n",
            "El valor es 18\n",
            "El valor es 19\n",
            "El valor es 20\n",
            "El valor es 21\n",
            "El valor es 22\n",
            "El valor es 23\n",
            "El valor es 24\n",
            "El valor es 25\n",
            "El valor es 26\n",
            "El valor es 27\n",
            "El valor es 28\n",
            "El valor es 29\n",
            "El valor es 30\n",
            "El valor es 31\n",
            "El valor es 32\n",
            "El valor es 33\n",
            "El valor es 34\n",
            "El valor es 35\n",
            "El valor es 36\n",
            "El valor es 37\n",
            "El valor es 38\n",
            "El valor es 39\n",
            "El valor es 40\n",
            "El valor es 41\n",
            "El valor es 42\n",
            "El valor es 43\n",
            "El valor es 44\n",
            "El valor es 45\n",
            "El valor es 46\n",
            "El valor es 47\n",
            "El valor es 48\n",
            "El valor es 49\n",
            "El valor es 50\n",
            "El valor es 51\n",
            "El valor es 52\n",
            "El valor es 53\n",
            "El valor es 54\n",
            "El valor es 55\n",
            "El valor es 56\n",
            "El valor es 57\n",
            "El valor es 58\n",
            "El valor es 59\n",
            "El valor es 60\n",
            "El valor es 61\n",
            "El valor es 62\n",
            "El valor es 63\n",
            "El valor es 64\n",
            "El valor es 65\n",
            "El valor es 66\n",
            "El valor es 67\n",
            "El valor es 68\n",
            "El valor es 69\n",
            "El valor es 70\n",
            "El valor es 71\n",
            "El valor es 72\n",
            "El valor es 73\n",
            "El valor es 74\n",
            "El valor es 75\n",
            "El valor es 76\n",
            "El valor es 77\n",
            "El valor es 78\n",
            "El valor es 79\n",
            "El valor es 80\n",
            "El valor es 81\n",
            "El valor es 82\n",
            "El valor es 83\n",
            "El valor es 84\n",
            "El valor es 85\n",
            "El valor es 86\n",
            "El valor es 87\n",
            "El valor es 88\n",
            "El valor es 89\n",
            "El valor es 90\n",
            "El valor es 91\n",
            "El valor es 92\n",
            "El valor es 93\n",
            "El valor es 94\n",
            "El valor es 95\n",
            "El valor es 96\n",
            "El valor es 97\n",
            "El valor es 98\n",
            "El valor es 99\n"
          ]
        }
      ]
    },
    {
      "cell_type": "code",
      "source": [
        "listaAnimales=list()\n",
        "listaAnimales.append('monkey',)\n",
        "listaAnimales.append('cat')\n",
        "listaAnimales.append('dog')\n",
        "listaAnimales.append('elephant')\n",
        "listaAnimales.append('horse')\n",
        "print(listaAnimales)\n",
        "tmp1=listaAnimales[:3]\n",
        "print(\"Animales %s\"%(tmp1))\n",
        "\n",
        "tmp2=listaAnimales[:2]\n",
        "print(\"Animales %s\"%(tmp2))\n",
        "\n",
        "tmp3=listaAnimales[2:4]\n",
        "print(\"Animales %s\"%(tmp3))\n",
        "\n",
        "listaAnimales[2:4]=['1','3']\n",
        "print(listaAnimales)\n",
        "\n",
        "listaAnimales[2:4]=['cow','fish']\n",
        "print(listaAnimales)\n",
        "\n",
        "\n",
        "\n",
        "\n",
        "\n"
      ],
      "metadata": {
        "colab": {
          "base_uri": "https://localhost:8080/"
        },
        "id": "WN-tchF1xW-j",
        "outputId": "4b3ba15e-7511-4569-b05d-9f6c4374375a"
      },
      "execution_count": 9,
      "outputs": [
        {
          "output_type": "stream",
          "name": "stdout",
          "text": [
            "['monkey', 'cat', 'dog', 'elephant', 'horse']\n",
            "Animales ['monkey', 'cat', 'dog']\n",
            "Animales ['monkey', 'cat']\n",
            "Animales ['dog', 'elephant']\n",
            "['monkey', 'cat', '1', '3', 'horse']\n",
            "['monkey', 'cat', 'cow', 'fish', 'horse']\n"
          ]
        }
      ]
    },
    {
      "cell_type": "code",
      "source": [
        "for numero,animal in enumerate(listaAnimales):\n",
        "  print('%d: %s'%(numero+1,animal))\n",
        ""
      ],
      "metadata": {
        "colab": {
          "base_uri": "https://localhost:8080/"
        },
        "id": "j2HIVzUBzsFm",
        "outputId": "eb5f2bcc-a842-4a87-8339-5e1c4e64f816"
      },
      "execution_count": 10,
      "outputs": [
        {
          "output_type": "stream",
          "name": "stdout",
          "text": [
            "1: monkey\n",
            "2: cat\n",
            "3: cow\n",
            "4: fish\n",
            "5: horse\n"
          ]
        }
      ]
    },
    {
      "cell_type": "code",
      "source": [
        "\n",
        "lista = list(range(1, 51))\n",
        "lista_cuadrados = []\n",
        "for numero in lista:\n",
        "    lista_cuadrados.append(numero**2)\n",
        "print(lista_cuadrados)\n"
      ],
      "metadata": {
        "colab": {
          "base_uri": "https://localhost:8080/"
        },
        "id": "x8Vi47pp0eR4",
        "outputId": "b5d18ecc-f6b7-4eef-b0f9-43d0acfbff24"
      },
      "execution_count": 22,
      "outputs": [
        {
          "output_type": "stream",
          "name": "stdout",
          "text": [
            "[1, 4, 9, 16, 25, 36, 49, 64, 81, 100, 121, 144, 169, 196, 225, 256, 289, 324, 361, 400, 441, 484, 529, 576, 625, 676, 729, 784, 841, 900, 961, 1024, 1089, 1156, 1225, 1296, 1369, 1444, 1521, 1600, 1681, 1764, 1849, 1936, 2025, 2116, 2209, 2304, 2401, 2500]\n"
          ]
        }
      ]
    },
    {
      "cell_type": "code",
      "source": [
        "lista=[ i**2 for i in lista]\n",
        "print(lista)"
      ],
      "metadata": {
        "colab": {
          "base_uri": "https://localhost:8080/"
        },
        "id": "f6qegLjY2QO9",
        "outputId": "3de2decb-da9f-42f4-b80e-7931b5a57f0f"
      },
      "execution_count": 19,
      "outputs": [
        {
          "output_type": "stream",
          "name": "stdout",
          "text": [
            "[1, 16, 81, 256, 625, 1296, 2401, 4096, 6561, 10000, 14641, 20736, 28561, 38416, 50625, 65536, 83521, 104976, 130321, 160000, 194481, 234256, 279841, 331776, 390625, 456976, 531441, 614656, 707281, 810000, 923521, 1048576, 1185921, 1336336, 1500625, 1679616, 1874161, 2085136, 2313441, 2560000, 2825761, 3111696, 3418801, 3748096, 4100625, 4477456, 4879681, 5308416, 5764801, 6250000]\n"
          ]
        }
      ]
    },
    {
      "cell_type": "code",
      "source": [
        "\n",
        "listNunPa=[i for i in range(1,51) if i%2==0]\n",
        "print(listNunPa)\n",
        "\n",
        "ListNumIm=[i for i in range(1,51) if i%2==1]\n",
        "print(ListNumIm)"
      ],
      "metadata": {
        "colab": {
          "base_uri": "https://localhost:8080/"
        },
        "id": "i12-7YpN3TAs",
        "outputId": "9dcd4629-f30e-4883-f03a-8dceb90e2e31"
      },
      "execution_count": 26,
      "outputs": [
        {
          "output_type": "stream",
          "name": "stdout",
          "text": [
            "[2, 4, 6, 8, 10, 12, 14, 16, 18, 20, 22, 24, 26, 28, 30, 32, 34, 36, 38, 40, 42, 44, 46, 48, 50]\n",
            "[1, 3, 5, 7, 9, 11, 13, 15, 17, 19, 21, 23, 25, 27, 29, 31, 33, 35, 37, 39, 41, 43, 45, 47, 49]\n"
          ]
        }
      ]
    },
    {
      "cell_type": "code",
      "source": [
        "myDictionary={'dog':'cute','cat':'nice','mouse':'small'}\n",
        "print(myDictionary)"
      ],
      "metadata": {
        "colab": {
          "base_uri": "https://localhost:8080/"
        },
        "id": "VXhPwbiR3tiz",
        "outputId": "5c3bcae1-fa9e-4991-edc5-dc68d267d0a9"
      },
      "execution_count": 27,
      "outputs": [
        {
          "output_type": "stream",
          "name": "stdout",
          "text": [
            "{'dog': 'cute', 'cat': 'nice', 'mouse': 'small'}\n"
          ]
        }
      ]
    },
    {
      "cell_type": "code",
      "source": [
        "for key in myDictionary:\n",
        "  print(myDictionary[key])"
      ],
      "metadata": {
        "colab": {
          "base_uri": "https://localhost:8080/"
        },
        "id": "zemQdr7Z4SY-",
        "outputId": "7c185ee6-82ec-4492-c853-9563caab14e2"
      },
      "execution_count": 28,
      "outputs": [
        {
          "output_type": "stream",
          "name": "stdout",
          "text": [
            "cute\n",
            "nice\n",
            "small\n"
          ]
        }
      ]
    },
    {
      "cell_type": "code",
      "source": [
        "\n",
        "diccionario = {numero: numero**2 for numero in range(1, 51)}\n",
        "print(diccionario)\n"
      ],
      "metadata": {
        "colab": {
          "base_uri": "https://localhost:8080/"
        },
        "id": "v7mSCRVN4jM8",
        "outputId": "fcb20f94-ec1d-46db-d950-566264cb2a30"
      },
      "execution_count": 29,
      "outputs": [
        {
          "output_type": "stream",
          "name": "stdout",
          "text": [
            "{1: 1, 2: 4, 3: 9, 4: 16, 5: 25, 6: 36, 7: 49, 8: 64, 9: 81, 10: 100, 11: 121, 12: 144, 13: 169, 14: 196, 15: 225, 16: 256, 17: 289, 18: 324, 19: 361, 20: 400, 21: 441, 22: 484, 23: 529, 24: 576, 25: 625, 26: 676, 27: 729, 28: 784, 29: 841, 30: 900, 31: 961, 32: 1024, 33: 1089, 34: 1156, 35: 1225, 36: 1296, 37: 1369, 38: 1444, 39: 1521, 40: 1600, 41: 1681, 42: 1764, 43: 1849, 44: 1936, 45: 2025, 46: 2116, 47: 2209, 48: 2304, 49: 2401, 50: 2500}\n"
          ]
        }
      ]
    },
    {
      "cell_type": "code",
      "source": [
        "dictiCuadrado={'1':1,'2':4,'3':9,'4':16}\n",
        "print(dictiCuadrado)\n",
        "\n",
        "dictiCuadrado={ i:i**2 for i in lista_cuadrados }\n",
        "print(dictiCuadrado)"
      ],
      "metadata": {
        "colab": {
          "base_uri": "https://localhost:8080/"
        },
        "id": "lgRLdQv651K9",
        "outputId": "014307ef-7ccb-4509-ba14-33e253c28c94"
      },
      "execution_count": 34,
      "outputs": [
        {
          "output_type": "stream",
          "name": "stdout",
          "text": [
            "{'1': 1, '2': 4, '3': 9, '4': 16}\n",
            "{1: 1, 4: 16, 9: 81, 16: 256, 25: 625, 36: 1296, 49: 2401, 64: 4096, 81: 6561, 100: 10000, 121: 14641, 144: 20736, 169: 28561, 196: 38416, 225: 50625, 256: 65536, 289: 83521, 324: 104976, 361: 130321, 400: 160000, 441: 194481, 484: 234256, 529: 279841, 576: 331776, 625: 390625, 676: 456976, 729: 531441, 784: 614656, 841: 707281, 900: 810000, 961: 923521, 1024: 1048576, 1089: 1185921, 1156: 1336336, 1225: 1500625, 1296: 1679616, 1369: 1874161, 1444: 2085136, 1521: 2313441, 1600: 2560000, 1681: 2825761, 1764: 3111696, 1849: 3418801, 1936: 3748096, 2025: 4100625, 2116: 4477456, 2209: 4879681, 2304: 5308416, 2401: 5764801, 2500: 6250000}\n"
          ]
        }
      ]
    },
    {
      "cell_type": "code",
      "source": [
        "setElementos={'monkey','donkey','mouse','cocodrile','fish'}\n",
        "print(setElementos)"
      ],
      "metadata": {
        "colab": {
          "base_uri": "https://localhost:8080/"
        },
        "id": "-5nwg7c61SGS",
        "outputId": "71a61186-cd5a-4f19-ad09-aab5d8bbd544"
      },
      "execution_count": 35,
      "outputs": [
        {
          "output_type": "stream",
          "name": "stdout",
          "text": [
            "{'monkey', 'fish', 'mouse', 'donkey', 'cocodrile'}\n"
          ]
        }
      ]
    },
    {
      "cell_type": "code",
      "source": [
        "print('donkey' in setElementos)\n",
        "setElementos.add('horse')\n",
        "print(setElementos)\n",
        "#setElementos.remove('donkey')\n",
        "print(setElementos)\n",
        "print(setElementos)\n",
        "print(len(setElementos))\n"
      ],
      "metadata": {
        "colab": {
          "base_uri": "https://localhost:8080/"
        },
        "id": "JPGixnrT7Gb0",
        "outputId": "22b843b1-4eb1-45dc-db99-9f83bdfda6c7"
      },
      "execution_count": 41,
      "outputs": [
        {
          "output_type": "stream",
          "name": "stdout",
          "text": [
            "False\n",
            "{'monkey', 'fish', 'horse', 'mouse', 'cocodrile'}\n",
            "{'monkey', 'fish', 'horse', 'mouse', 'cocodrile'}\n",
            "{'monkey', 'fish', 'horse', 'mouse', 'cocodrile'}\n",
            "5\n"
          ]
        }
      ]
    },
    {
      "cell_type": "markdown",
      "source": [
        "**FUNCIONES**"
      ],
      "metadata": {
        "id": "_sRXQ6Vl8v9C"
      }
    },
    {
      "cell_type": "code",
      "source": [
        "def suma(a, b):\n",
        "    return a + b\n",
        "\n",
        "tmp1 = 5\n",
        "tmp2 = 6\n",
        "print(suma(tmp1, tmp2))\n",
        "print('La suma de los valores es igual:', suma(tmp1, tmp2))\n"
      ],
      "metadata": {
        "colab": {
          "base_uri": "https://localhost:8080/"
        },
        "id": "mjLNjT_J8x7o",
        "outputId": "6bfc50aa-6114-4398-8364-934cdcaa6e74"
      },
      "execution_count": 45,
      "outputs": [
        {
          "output_type": "stream",
          "name": "stdout",
          "text": [
            "11\n",
            "La suma de los valores es igual: 11\n"
          ]
        }
      ]
    },
    {
      "cell_type": "code",
      "source": [
        "def suma(a, b):\n",
        "    return a + b\n",
        "\n",
        "def es_positivo_o_negativo(numero):\n",
        "    if numero > 0:\n",
        "        return \"positivo\"\n",
        "    elif numero < 0:\n",
        "        return \"negativo\"\n",
        "    else:\n",
        "        return \"cero\"\n",
        "\n",
        "tmp1 = 5\n",
        "tmp2 = 6\n",
        "\n",
        "resultado = suma(tmp1, tmp2)\n",
        "print(f'La suma de los valores es igual: {resultado}')\n",
        "estado = es_positivo_o_negativo(resultado)\n",
        "print(f'El resultado es un número {estado}.')\n"
      ],
      "metadata": {
        "colab": {
          "base_uri": "https://localhost:8080/"
        },
        "id": "Px9pT5jG-eB5",
        "outputId": "404deea2-84f4-4cd5-8224-69518e01f86e"
      },
      "execution_count": 46,
      "outputs": [
        {
          "output_type": "stream",
          "name": "stdout",
          "text": [
            "La suma de los valores es igual: 11\n",
            "El resultado es un número positivo.\n"
          ]
        }
      ]
    },
    {
      "cell_type": "code",
      "source": [
        "from os import name\n",
        "class saludos(object):\n",
        "  #constructor\n",
        "  def __init__(self, nombre):\n",
        "    self.nombre=nombre\n",
        "   ## print('Se ejecuta automaticamente')\n",
        "  def mensaje(self):\n",
        "    print('Hola',self.nombre)\n",
        "\n",
        "name1=saludos('Ariel')\n",
        "name1.mensaje()\n"
      ],
      "metadata": {
        "colab": {
          "base_uri": "https://localhost:8080/"
        },
        "id": "WBmu2icrANQz",
        "outputId": "b6f3d825-571f-4585-cdea-ad2f73cf2b53"
      },
      "execution_count": 50,
      "outputs": [
        {
          "output_type": "stream",
          "name": "stdout",
          "text": [
            "Hola Ariel\n"
          ]
        }
      ]
    },
    {
      "cell_type": "code",
      "source": [
        "class Calculadora:\n",
        "    # Método para sumar\n",
        "    def suma(self, a, b):\n",
        "        return a + b\n",
        "\n",
        "    # Método para restar\n",
        "    def resta(self, a, b):\n",
        "        return a - b\n",
        "\n",
        "    # Método para multiplicar\n",
        "    def multiplicacion(self, a, b):\n",
        "        return a * b\n",
        "\n",
        "    # Método para dividir\n",
        "    def division(self, a, b):\n",
        "        if b == 0:\n",
        "            return \"Error: División por cero no permitida\"\n",
        "        return a / b\n",
        "\n",
        "calc = Calculadora()\n",
        "\n",
        "\n",
        "num1 = 10\n",
        "num2 = 5\n",
        "\n",
        "print(f\"La suma de {num1} y {num2} es: {calc.suma(num1, num2)}\")\n",
        "print('******************************************************************')\n",
        "print(f\"La resta de {num1} y {num2} es: {calc.resta(num1, num2)}\")\n",
        "print('******************************************************************')\n",
        "print(f\"La multiplicación de {num1} y {num2} es: {calc.multiplicacion(num1, num2)}\")\n",
        "print('******************************************************************')\n",
        "print(f\"La división de {num1} y {num2} es: {calc.division(num1, num2)}\")\n"
      ],
      "metadata": {
        "colab": {
          "base_uri": "https://localhost:8080/"
        },
        "id": "vCAvdO-tCeNr",
        "outputId": "c788cd20-3b9e-4d6b-c914-71e21c681515"
      },
      "execution_count": 54,
      "outputs": [
        {
          "output_type": "stream",
          "name": "stdout",
          "text": [
            "La suma de 10 y 5 es: 15\n",
            "******************************************************************\n",
            "La resta de 10 y 5 es: 5\n",
            "******************************************************************\n",
            "La multiplicación de 10 y 5 es: 50\n",
            "******************************************************************\n",
            "La división de 10 y 5 es: 2.0\n"
          ]
        }
      ]
    },
    {
      "cell_type": "code",
      "source": [
        "class Numeros(object):\n",
        "    def __init__(self, numero1, numero2):\n",
        "        self.numero1 = numero1\n",
        "        self.numero2 = numero2\n",
        "\n",
        "    def suma(self):\n",
        "        return self.numero1 + self.numero2\n",
        "\n",
        "problema1 = Numeros(10, 20)\n",
        "print(problema1.suma())\n"
      ],
      "metadata": {
        "colab": {
          "base_uri": "https://localhost:8080/"
        },
        "id": "ZhxQZvBGC2NV",
        "outputId": "9dba7956-dc50-4699-9fa2-abbbefa86107"
      },
      "execution_count": 56,
      "outputs": [
        {
          "output_type": "stream",
          "name": "stdout",
          "text": [
            "30\n"
          ]
        }
      ]
    }
  ]
}