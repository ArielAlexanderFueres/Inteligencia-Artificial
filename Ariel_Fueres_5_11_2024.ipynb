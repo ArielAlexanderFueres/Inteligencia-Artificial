{
  "nbformat": 4,
  "nbformat_minor": 0,
  "metadata": {
    "colab": {
      "provenance": [],
      "authorship_tag": "ABX9TyMjPKVDTgEkoW9Y3ARFG6U8",
      "include_colab_link": true
    },
    "kernelspec": {
      "name": "python3",
      "display_name": "Python 3"
    },
    "language_info": {
      "name": "python"
    }
  },
  "cells": [
    {
      "cell_type": "markdown",
      "metadata": {
        "id": "view-in-github",
        "colab_type": "text"
      },
      "source": [
        "<a href=\"https://colab.research.google.com/github/ArielAlexanderFueres/Inteligencia-Artificial/blob/main/Ariel_Fueres_5_11_2024.ipynb\" target=\"_parent\"><img src=\"https://colab.research.google.com/assets/colab-badge.svg\" alt=\"Open In Colab\"/></a>"
      ]
    },
    {
      "cell_type": "code",
      "execution_count": 2,
      "metadata": {
        "colab": {
          "base_uri": "https://localhost:8080/"
        },
        "id": "Kr80azVglMf5",
        "outputId": "41221568-4f94-408a-ccd1-8436006ac4e6"
      },
      "outputs": [
        {
          "output_type": "stream",
          "name": "stdout",
          "text": [
            "(3, 4)\n"
          ]
        }
      ],
      "source": [
        "#\n",
        "import numpy as np\n",
        "matrixA=np.array([[1,2,3,4],[5,6,7,8],[9,10,11,12]])\n",
        "print(matrixA.shape)"
      ]
    },
    {
      "cell_type": "code",
      "source": [
        "matrixA"
      ],
      "metadata": {
        "colab": {
          "base_uri": "https://localhost:8080/"
        },
        "id": "s3dvs98RnL-V",
        "outputId": "1a6c09ca-3ae3-4b2c-b6bb-8271e4be8c72"
      },
      "execution_count": 4,
      "outputs": [
        {
          "output_type": "execute_result",
          "data": {
            "text/plain": [
              "array([[ 1,  2,  3,  4],\n",
              "       [ 5,  6,  7,  8],\n",
              "       [ 9, 10, 11, 12]])"
            ]
          },
          "metadata": {},
          "execution_count": 4
        }
      ]
    },
    {
      "cell_type": "code",
      "source": [
        "print(matrixA[1:,1:3])"
      ],
      "metadata": {
        "colab": {
          "base_uri": "https://localhost:8080/"
        },
        "id": "_WnLcVOHnRIg",
        "outputId": "35696f37-38b6-4904-8098-414dbaaf60f1"
      },
      "execution_count": 5,
      "outputs": [
        {
          "output_type": "stream",
          "name": "stdout",
          "text": [
            "[[ 6  7]\n",
            " [10 11]]\n"
          ]
        }
      ]
    },
    {
      "cell_type": "code",
      "source": [
        "\n",
        "matrix = np.random.randint(0, 10, size=(4, 3))\n",
        "print(matrix)"
      ],
      "metadata": {
        "colab": {
          "base_uri": "https://localhost:8080/"
        },
        "id": "XTCWHhAYnx6K",
        "outputId": "795203fc-1a2d-46f7-985b-1a06d2abcc2d"
      },
      "execution_count": 15,
      "outputs": [
        {
          "output_type": "stream",
          "name": "stdout",
          "text": [
            "[[2 0 5]\n",
            " [3 6 5]\n",
            " [9 7 2]\n",
            " [3 7 8]]\n"
          ]
        }
      ]
    },
    {
      "cell_type": "code",
      "source": [
        "print(matrix)\n",
        "col_indices=np.array([0,1,2])\n",
        "row_indices=np.array([1,2])\n",
        "\n",
        "for row,col in zip(row_indices,col_indices):\n",
        "    #print(row,\"-\",col)\n",
        "    print(matrix[row,col])"
      ],
      "metadata": {
        "colab": {
          "base_uri": "https://localhost:8080/"
        },
        "id": "gz3N9aO6qA4e",
        "outputId": "d671c63b-3b77-41e6-e026-9f44a82f8424"
      },
      "execution_count": 16,
      "outputs": [
        {
          "output_type": "stream",
          "name": "stdout",
          "text": [
            "[[2 0 5]\n",
            " [3 6 5]\n",
            " [9 7 2]\n",
            " [3 7 8]]\n",
            "3\n",
            "7\n"
          ]
        }
      ]
    },
    {
      "cell_type": "code",
      "source": [
        "mask=matrix>5\n",
        "print(mask)"
      ],
      "metadata": {
        "colab": {
          "base_uri": "https://localhost:8080/"
        },
        "id": "cUXYKh8rqCJB",
        "outputId": "64f05981-5c88-4a3b-c9a9-f57df44116f3"
      },
      "execution_count": 17,
      "outputs": [
        {
          "output_type": "stream",
          "name": "stdout",
          "text": [
            "[[False False False]\n",
            " [False  True False]\n",
            " [ True  True False]\n",
            " [False  True  True]]\n"
          ]
        }
      ]
    },
    {
      "cell_type": "code",
      "source": [
        "print(matrix[mask])"
      ],
      "metadata": {
        "colab": {
          "base_uri": "https://localhost:8080/"
        },
        "id": "KcJCn434qGeB",
        "outputId": "782cb193-0a40-4f36-acbe-541d613adc19"
      },
      "execution_count": 18,
      "outputs": [
        {
          "output_type": "stream",
          "name": "stdout",
          "text": [
            "[6 9 7 7 8]\n"
          ]
        }
      ]
    },
    {
      "cell_type": "code",
      "source": [
        "print(matrix[matrix>5])"
      ],
      "metadata": {
        "colab": {
          "base_uri": "https://localhost:8080/"
        },
        "id": "a5t20WOlqN-0",
        "outputId": "7f93a870-2320-4740-8f4e-a841fd0ec809"
      },
      "execution_count": 19,
      "outputs": [
        {
          "output_type": "stream",
          "name": "stdout",
          "text": [
            "[6 9 7 7 8]\n"
          ]
        }
      ]
    },
    {
      "cell_type": "code",
      "source": [
        "print(matrix)"
      ],
      "metadata": {
        "colab": {
          "base_uri": "https://localhost:8080/"
        },
        "id": "6icoKEWbqXdr",
        "outputId": "e6d9bed4-efbe-4116-adec-21df0a1e661e"
      },
      "execution_count": 20,
      "outputs": [
        {
          "output_type": "stream",
          "name": "stdout",
          "text": [
            "[[2 0 5]\n",
            " [3 6 5]\n",
            " [9 7 2]\n",
            " [3 7 8]]\n"
          ]
        }
      ]
    },
    {
      "cell_type": "code",
      "source": [
        "matrix[matrix % 2 == 0] += 100\n",
        "print(matrix)"
      ],
      "metadata": {
        "colab": {
          "base_uri": "https://localhost:8080/"
        },
        "id": "R1c9LSRtqjpB",
        "outputId": "ab44aa20-310c-4e45-a255-5b1f256350b2"
      },
      "execution_count": 21,
      "outputs": [
        {
          "output_type": "stream",
          "name": "stdout",
          "text": [
            "[[102 100   5]\n",
            " [  3 106   5]\n",
            " [  9   7 102]\n",
            " [  3   7 108]]\n"
          ]
        }
      ]
    },
    {
      "cell_type": "code",
      "source": [
        "print(matrix)\n"
      ],
      "metadata": {
        "colab": {
          "base_uri": "https://localhost:8080/"
        },
        "id": "LrT4ATrBrc1o",
        "outputId": "a25aeeb5-7d5a-4845-aa79-98fd4d4b79a8"
      },
      "execution_count": 23,
      "outputs": [
        {
          "output_type": "stream",
          "name": "stdout",
          "text": [
            "[[102 100   5]\n",
            " [  3 106   5]\n",
            " [  9   7 102]\n",
            " [  3   7 108]]\n"
          ]
        }
      ]
    },
    {
      "cell_type": "code",
      "source": [
        "mask = (matrix >= 3) & (matrix <= 9)\n",
        "matrix[mask] += 100\n",
        "print(matrix)"
      ],
      "metadata": {
        "colab": {
          "base_uri": "https://localhost:8080/"
        },
        "id": "eqxBJy-Vr8xH",
        "outputId": "f2d5bbd7-fe5c-42fb-9c45-cafdf8e1f472"
      },
      "execution_count": 24,
      "outputs": [
        {
          "output_type": "stream",
          "name": "stdout",
          "text": [
            "[[102 100 105]\n",
            " [103 106 105]\n",
            " [109 107 102]\n",
            " [103 107 108]]\n"
          ]
        }
      ]
    },
    {
      "cell_type": "code",
      "source": [
        "filter = (matrix > 3) & (matrix < 9)\n",
        "matrix[filter] += 100\n",
        "print(matrix)\n"
      ],
      "metadata": {
        "colab": {
          "base_uri": "https://localhost:8080/"
        },
        "id": "oaN-lngfs72W",
        "outputId": "934e3fe1-f6c7-48ca-a460-5976a9d85f17"
      },
      "execution_count": 30,
      "outputs": [
        {
          "output_type": "stream",
          "name": "stdout",
          "text": [
            "[[102 100 105]\n",
            " [103 106 105]\n",
            " [109 107 102]\n",
            " [103 107 108]]\n"
          ]
        }
      ]
    },
    {
      "cell_type": "code",
      "source": [
        "matrixA1 = np.random.randint(0, 10, size=(4, 3))\n",
        "matrixA2 = np.random.randint(0, 10, size=(4, 3))\n",
        "print(\"MatrixA1\")\n",
        "print(matrixA1)\n",
        "print(\"MatrixA2\")\n",
        "print(matrixA2)"
      ],
      "metadata": {
        "colab": {
          "base_uri": "https://localhost:8080/"
        },
        "id": "1qNIeZZBu0OF",
        "outputId": "33e9e8b4-ac6a-44f6-8f31-54acd3293616"
      },
      "execution_count": 33,
      "outputs": [
        {
          "output_type": "stream",
          "name": "stdout",
          "text": [
            "MatrixA1\n",
            "[[9 7 6]\n",
            " [8 5 3]\n",
            " [3 5 2]\n",
            " [7 2 6]]\n",
            "MatrixA2\n",
            "[[6 1 2]\n",
            " [0 1 4]\n",
            " [9 7 0]\n",
            " [7 8 7]]\n"
          ]
        }
      ]
    },
    {
      "cell_type": "code",
      "source": [
        "print(matrixA1+matrixA2)"
      ],
      "metadata": {
        "colab": {
          "base_uri": "https://localhost:8080/"
        },
        "id": "3wFX-_7EvUjO",
        "outputId": "aae9341d-b3b0-4f31-9827-d58301fdf9e6"
      },
      "execution_count": 34,
      "outputs": [
        {
          "output_type": "stream",
          "name": "stdout",
          "text": [
            "[[15  8  8]\n",
            " [ 8  6  7]\n",
            " [12 12  2]\n",
            " [14 10 13]]\n"
          ]
        }
      ]
    },
    {
      "cell_type": "code",
      "source": [
        "print(matrixA1-matrixA2)\n",
        "print(matrixA1*matrixA2)\n",
        "print(matrixA1/matrixA2)\n",
        "print(matrixA1+matrixA2)"
      ],
      "metadata": {
        "colab": {
          "base_uri": "https://localhost:8080/"
        },
        "id": "nyir7oLYvdua",
        "outputId": "451b150d-733f-4cc5-d008-c7d8c0dde063"
      },
      "execution_count": 35,
      "outputs": [
        {
          "output_type": "stream",
          "name": "stdout",
          "text": [
            "[[ 3  6  4]\n",
            " [ 8  4 -1]\n",
            " [-6 -2  2]\n",
            " [ 0 -6 -1]]\n",
            "[[54  7 12]\n",
            " [ 0  5 12]\n",
            " [27 35  0]\n",
            " [49 16 42]]\n",
            "[[1.5        7.         3.        ]\n",
            " [       inf 5.         0.75      ]\n",
            " [0.33333333 0.71428571        inf]\n",
            " [1.         0.25       0.85714286]]\n",
            "[[15  8  8]\n",
            " [ 8  6  7]\n",
            " [12 12  2]\n",
            " [14 10 13]]\n"
          ]
        },
        {
          "output_type": "stream",
          "name": "stderr",
          "text": [
            "<ipython-input-35-0f680d72308d>:3: RuntimeWarning: divide by zero encountered in divide\n",
            "  print(matrixA1/matrixA2)\n"
          ]
        }
      ]
    },
    {
      "cell_type": "code",
      "source": [
        "print(matrixA1)"
      ],
      "metadata": {
        "colab": {
          "base_uri": "https://localhost:8080/"
        },
        "id": "G_Sb-WOrvqBs",
        "outputId": "a61a0a94-7819-4911-caec-70565a591a1b"
      },
      "execution_count": 36,
      "outputs": [
        {
          "output_type": "stream",
          "name": "stdout",
          "text": [
            "[[9 7 6]\n",
            " [8 5 3]\n",
            " [3 5 2]\n",
            " [7 2 6]]\n"
          ]
        }
      ]
    },
    {
      "cell_type": "code",
      "source": [
        "print(np.sqrt(matrixA1))"
      ],
      "metadata": {
        "colab": {
          "base_uri": "https://localhost:8080/"
        },
        "id": "9uJxWIjRvuXl",
        "outputId": "e0321f33-97ea-4629-8fb2-7b9ae8556e5a"
      },
      "execution_count": 37,
      "outputs": [
        {
          "output_type": "stream",
          "name": "stdout",
          "text": [
            "[[3.         2.64575131 2.44948974]\n",
            " [2.82842712 2.23606798 1.73205081]\n",
            " [1.73205081 2.23606798 1.41421356]\n",
            " [2.64575131 1.41421356 2.44948974]]\n"
          ]
        }
      ]
    },
    {
      "cell_type": "code",
      "source": [
        "matrixA1 = np.random.randint(0, 10, size=(2, 5))\n",
        "print(matrixA1)"
      ],
      "metadata": {
        "colab": {
          "base_uri": "https://localhost:8080/"
        },
        "id": "UfUw2K-Sv6KE",
        "outputId": "420bb609-0c32-4f3a-b213-9b417394105d"
      },
      "execution_count": 39,
      "outputs": [
        {
          "output_type": "stream",
          "name": "stdout",
          "text": [
            "[[6 4 6 0 6]\n",
            " [7 3 3 9 0]]\n"
          ]
        }
      ]
    },
    {
      "cell_type": "code",
      "source": [
        "print(np.mean(matrixA1))"
      ],
      "metadata": {
        "colab": {
          "base_uri": "https://localhost:8080/"
        },
        "id": "AXDy6oJ7wNnH",
        "outputId": "37fc4e69-2ed4-40ea-da3a-d3b1e956b37e"
      },
      "execution_count": 40,
      "outputs": [
        {
          "output_type": "stream",
          "name": "stdout",
          "text": [
            "4.4\n"
          ]
        }
      ]
    },
    {
      "cell_type": "code",
      "source": [
        "print(matrixA1.mean(axis=1))"
      ],
      "metadata": {
        "colab": {
          "base_uri": "https://localhost:8080/"
        },
        "id": "5wtkr06OwR3E",
        "outputId": "fb0c7853-970e-4e5c-a708-1117e1c4fc8f"
      },
      "execution_count": 41,
      "outputs": [
        {
          "output_type": "stream",
          "name": "stdout",
          "text": [
            "[4.4 4.4]\n"
          ]
        }
      ]
    },
    {
      "cell_type": "code",
      "source": [
        "print(matrixA1.mean(axis=0))"
      ],
      "metadata": {
        "colab": {
          "base_uri": "https://localhost:8080/"
        },
        "id": "VwRIqWo5wf7k",
        "outputId": "8d7251f0-bd21-417a-b5fe-823875ae4b70"
      },
      "execution_count": 42,
      "outputs": [
        {
          "output_type": "stream",
          "name": "stdout",
          "text": [
            "[6.5 3.5 4.5 4.5 3. ]\n"
          ]
        }
      ]
    },
    {
      "cell_type": "code",
      "source": [
        "print(np.std(matrixA1))"
      ],
      "metadata": {
        "colab": {
          "base_uri": "https://localhost:8080/"
        },
        "id": "UIDOS5RKwxN4",
        "outputId": "7765f0ec-dd67-4a70-f2fe-f4e80ef1d1f4"
      },
      "execution_count": 43,
      "outputs": [
        {
          "output_type": "stream",
          "name": "stdout",
          "text": [
            "2.8\n"
          ]
        }
      ]
    },
    {
      "cell_type": "code",
      "source": [
        "print(np.median(matrixA1))"
      ],
      "metadata": {
        "colab": {
          "base_uri": "https://localhost:8080/"
        },
        "id": "_C7ZUJgAw1x1",
        "outputId": "6786fb35-e292-4787-e5ed-e2cc3a40cb48"
      },
      "execution_count": 44,
      "outputs": [
        {
          "output_type": "stream",
          "name": "stdout",
          "text": [
            "5.0\n"
          ]
        }
      ]
    },
    {
      "cell_type": "code",
      "source": [
        "print(matrixA1.sum())"
      ],
      "metadata": {
        "colab": {
          "base_uri": "https://localhost:8080/"
        },
        "id": "jcb5PnQKw6Zd",
        "outputId": "e761d5b5-174f-48dd-d950-fe6dd9e7a100"
      },
      "execution_count": 47,
      "outputs": [
        {
          "output_type": "stream",
          "name": "stdout",
          "text": [
            "44\n"
          ]
        }
      ]
    },
    {
      "cell_type": "code",
      "source": [
        "print(matrixA1.max())"
      ],
      "metadata": {
        "colab": {
          "base_uri": "https://localhost:8080/"
        },
        "id": "eCHLneCvxM7z",
        "outputId": "9a270991-43fa-4a0c-a5c2-0fdd4f5f70a9"
      },
      "execution_count": 48,
      "outputs": [
        {
          "output_type": "stream",
          "name": "stdout",
          "text": [
            "9\n"
          ]
        }
      ]
    },
    {
      "cell_type": "code",
      "source": [
        "print(matrixA1.min())"
      ],
      "metadata": {
        "colab": {
          "base_uri": "https://localhost:8080/"
        },
        "id": "mxc0n9TkxOQE",
        "outputId": "023e3bd1-d154-4f40-d0a7-617bf2f11366"
      },
      "execution_count": 49,
      "outputs": [
        {
          "output_type": "stream",
          "name": "stdout",
          "text": [
            "0\n"
          ]
        }
      ]
    },
    {
      "cell_type": "code",
      "source": [
        "satart=np.zeros((4,3))\n",
        "print(satart)"
      ],
      "metadata": {
        "colab": {
          "base_uri": "https://localhost:8080/"
        },
        "id": "08URGOnUx_pC",
        "outputId": "ef45689b-9b67-4cb9-d5e7-2a22256c982a"
      },
      "execution_count": 50,
      "outputs": [
        {
          "output_type": "stream",
          "name": "stdout",
          "text": [
            "[[0. 0. 0.]\n",
            " [0. 0. 0.]\n",
            " [0. 0. 0.]\n",
            " [0. 0. 0.]]\n"
          ]
        }
      ]
    },
    {
      "cell_type": "code",
      "source": [
        "add_rows=np.array([1,2,3])\n",
        "print(add_rows.shape)"
      ],
      "metadata": {
        "colab": {
          "base_uri": "https://localhost:8080/"
        },
        "id": "0zEPPuw3yJ1B",
        "outputId": "98c8dede-4bac-468e-e39f-ad7bdddcb2e6"
      },
      "execution_count": 52,
      "outputs": [
        {
          "output_type": "stream",
          "name": "stdout",
          "text": [
            "(3,)\n"
          ]
        }
      ]
    },
    {
      "cell_type": "code",
      "source": [
        "y=satart+add_rows\n",
        "print(y)"
      ],
      "metadata": {
        "colab": {
          "base_uri": "https://localhost:8080/"
        },
        "id": "aUp4-nBGyZUJ",
        "outputId": "5083bb8b-0908-4b27-ac31-d94646336ca4"
      },
      "execution_count": 53,
      "outputs": [
        {
          "output_type": "stream",
          "name": "stdout",
          "text": [
            "[[1. 2. 3.]\n",
            " [1. 2. 3.]\n",
            " [1. 2. 3.]\n",
            " [1. 2. 3.]]\n"
          ]
        }
      ]
    },
    {
      "cell_type": "code",
      "source": [
        "print(satart)"
      ],
      "metadata": {
        "colab": {
          "base_uri": "https://localhost:8080/"
        },
        "id": "SdxrGKofykAJ",
        "outputId": "bfb72836-eb22-4a0e-a208-a73808a8a543"
      },
      "execution_count": 54,
      "outputs": [
        {
          "output_type": "stream",
          "name": "stdout",
          "text": [
            "[[0. 0. 0.]\n",
            " [0. 0. 0.]\n",
            " [0. 0. 0.]\n",
            " [0. 0. 0.]]\n"
          ]
        }
      ]
    },
    {
      "cell_type": "code",
      "source": [
        "col_rows=np.array([[1,2,3,4]])\n",
        "print(col_rows.shape)"
      ],
      "metadata": {
        "colab": {
          "base_uri": "https://localhost:8080/"
        },
        "id": "nDWFaXJVymxM",
        "outputId": "c22d86a6-e0af-4033-c88d-547a2fe89ca4"
      },
      "execution_count": 55,
      "outputs": [
        {
          "output_type": "stream",
          "name": "stdout",
          "text": [
            "(1, 4)\n"
          ]
        }
      ]
    },
    {
      "cell_type": "code",
      "source": [
        "print(col_rows.T)"
      ],
      "metadata": {
        "colab": {
          "base_uri": "https://localhost:8080/"
        },
        "id": "gMKK7hzTzAD0",
        "outputId": "0e51b018-68f4-4b11-8689-e9a750bf95b3"
      },
      "execution_count": 60,
      "outputs": [
        {
          "output_type": "stream",
          "name": "stdout",
          "text": [
            "[[1]\n",
            " [2]\n",
            " [3]\n",
            " [4]]\n"
          ]
        }
      ]
    },
    {
      "cell_type": "code",
      "source": [
        "#col_rows.reshape(4,1)\n",
        "tmp=col_rows.T\n",
        "print(tmp)"
      ],
      "metadata": {
        "colab": {
          "base_uri": "https://localhost:8080/"
        },
        "id": "Wd5f6G36zqch",
        "outputId": "6668adb3-e16f-47c6-c349-8ad7b4d62485"
      },
      "execution_count": 61,
      "outputs": [
        {
          "output_type": "stream",
          "name": "stdout",
          "text": [
            "[[1]\n",
            " [2]\n",
            " [3]\n",
            " [4]]\n"
          ]
        }
      ]
    },
    {
      "cell_type": "code",
      "source": [
        "matrix = np.arange(1, 5).reshape(-1, 1)\n",
        "matrix = np.repeat(matrix, 3, axis=1)\n",
        "\n",
        "print(matrix)"
      ],
      "metadata": {
        "colab": {
          "base_uri": "https://localhost:8080/"
        },
        "id": "wF63tcOk0G3P",
        "outputId": "41bfb297-74cc-49d7-c092-3dceb2655db1"
      },
      "execution_count": 63,
      "outputs": [
        {
          "output_type": "stream",
          "name": "stdout",
          "text": [
            "[[1 1 1]\n",
            " [2 2 2]\n",
            " [3 3 3]\n",
            " [4 4 4]]\n"
          ]
        }
      ]
    },
    {
      "cell_type": "code",
      "source": [
        "start = np.zeros_like(col_rows.T)\n",
        "\n",
        "print(start)\n",
        "tmp = col_rows.T\n",
        "y2 = start + tmp\n",
        "print(y2)\n",
        "\n"
      ],
      "metadata": {
        "colab": {
          "base_uri": "https://localhost:8080/"
        },
        "id": "O3X7eK1v1FVp",
        "outputId": "1c17b9b1-704e-400d-b90a-69c9444f1d23"
      },
      "execution_count": 67,
      "outputs": [
        {
          "output_type": "stream",
          "name": "stdout",
          "text": [
            "[[0]\n",
            " [0]\n",
            " [0]\n",
            " [0]]\n",
            "[[1]\n",
            " [2]\n",
            " [3]\n",
            " [4]]\n"
          ]
        }
      ]
    },
    {
      "cell_type": "code",
      "source": [
        "tmp1=np.array([[1,1],[2,2]])\n",
        "tmp2=np.array([[3,3],[4,4]])\n",
        "print(tmp1)\n",
        "print(tmp2)"
      ],
      "metadata": {
        "colab": {
          "base_uri": "https://localhost:8080/"
        },
        "id": "EGFB5wZe1om9",
        "outputId": "3f15d705-405b-4053-c5d2-7fb7d9155087"
      },
      "execution_count": 69,
      "outputs": [
        {
          "output_type": "stream",
          "name": "stdout",
          "text": [
            "[[1 1]\n",
            " [2 2]]\n",
            "[[3 3]\n",
            " [4 4]]\n"
          ]
        }
      ]
    },
    {
      "cell_type": "code",
      "source": [
        "print(np.dot(tmp1,tmp2))"
      ],
      "metadata": {
        "colab": {
          "base_uri": "https://localhost:8080/"
        },
        "id": "1cJGA5Pa2CMd",
        "outputId": "120c3f72-d7c8-4290-b021-7c3b424010d6"
      },
      "execution_count": 70,
      "outputs": [
        {
          "output_type": "stream",
          "name": "stdout",
          "text": [
            "[[ 7  7]\n",
            " [14 14]]\n"
          ]
        }
      ]
    },
    {
      "cell_type": "code",
      "source": [
        "print(tmp1.dot(tmp2))"
      ],
      "metadata": {
        "colab": {
          "base_uri": "https://localhost:8080/"
        },
        "id": "OXsf8JO82IeK",
        "outputId": "6cbf1490-d9d8-4bbe-c004-873d4b6df8c6"
      },
      "execution_count": 71,
      "outputs": [
        {
          "output_type": "stream",
          "name": "stdout",
          "text": [
            "[[ 7  7]\n",
            " [14 14]]\n"
          ]
        }
      ]
    },
    {
      "cell_type": "code",
      "source": [
        "y1=np.random.randint(low=2, high=50, size=(2, 2))\n",
        "y2=np.random.randint(low=2, high=50, size=(2, 2))\n",
        "print(y1)\n",
        "print(y2)"
      ],
      "metadata": {
        "colab": {
          "base_uri": "https://localhost:8080/"
        },
        "id": "Rz7_QJ8l2OsA",
        "outputId": "aae1692f-de85-4f48-e4a4-e3b361f5da9d"
      },
      "execution_count": 72,
      "outputs": [
        {
          "output_type": "stream",
          "name": "stdout",
          "text": [
            "[[36 26]\n",
            " [47  6]]\n",
            "[[32 10]\n",
            " [21 19]]\n"
          ]
        }
      ]
    },
    {
      "cell_type": "code",
      "source": [
        "np.vstack((y1,y2))"
      ],
      "metadata": {
        "colab": {
          "base_uri": "https://localhost:8080/"
        },
        "id": "PV4tmw0c2eW2",
        "outputId": "427ba0d4-e62c-49ca-a0a7-503e4918adb0"
      },
      "execution_count": 73,
      "outputs": [
        {
          "output_type": "execute_result",
          "data": {
            "text/plain": [
              "array([[36, 26],\n",
              "       [47,  6],\n",
              "       [32, 10],\n",
              "       [21, 19]])"
            ]
          },
          "metadata": {},
          "execution_count": 73
        }
      ]
    },
    {
      "cell_type": "code",
      "source": [
        "np.hstack((y1,y2))"
      ],
      "metadata": {
        "colab": {
          "base_uri": "https://localhost:8080/"
        },
        "id": "RH_mKpE42siF",
        "outputId": "09574ece-a362-461a-b86a-354b03fd8a83"
      },
      "execution_count": 74,
      "outputs": [
        {
          "output_type": "execute_result",
          "data": {
            "text/plain": [
              "array([[36, 26, 32, 10],\n",
              "       [47,  6, 21, 19]])"
            ]
          },
          "metadata": {},
          "execution_count": 74
        }
      ]
    }
  ]
}