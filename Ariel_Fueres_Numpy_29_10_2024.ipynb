{
  "nbformat": 4,
  "nbformat_minor": 0,
  "metadata": {
    "colab": {
      "provenance": [],
      "authorship_tag": "ABX9TyNIgz+xDe1G3mcde+3WXL84",
      "include_colab_link": true
    },
    "kernelspec": {
      "name": "python3",
      "display_name": "Python 3"
    },
    "language_info": {
      "name": "python"
    }
  },
  "cells": [
    {
      "cell_type": "markdown",
      "metadata": {
        "id": "view-in-github",
        "colab_type": "text"
      },
      "source": [
        "<a href=\"https://colab.research.google.com/github/ArielAlexanderFueres/Inteligencia-Artificial/blob/main/Ariel_Fueres_Numpy_29_10_2024.ipynb\" target=\"_parent\"><img src=\"https://colab.research.google.com/assets/colab-badge.svg\" alt=\"Open In Colab\"/></a>"
      ]
    },
    {
      "cell_type": "markdown",
      "source": [
        "**LIBRERIA NUMPY**\n"
      ],
      "metadata": {
        "id": "82dLHcVQgQjd"
      }
    },
    {
      "cell_type": "code",
      "source": [
        "import numpy as np"
      ],
      "metadata": {
        "id": "Vipi691SgUFm"
      },
      "execution_count": 2,
      "outputs": []
    },
    {
      "cell_type": "code",
      "source": [
        "print(np.__version__)"
      ],
      "metadata": {
        "colab": {
          "base_uri": "https://localhost:8080/"
        },
        "id": "BRlXrvjDhOLD",
        "outputId": "5d784abe-a039-4927-fd28-878087d005da"
      },
      "execution_count": 3,
      "outputs": [
        {
          "output_type": "stream",
          "name": "stdout",
          "text": [
            "1.26.4\n"
          ]
        }
      ]
    },
    {
      "cell_type": "code",
      "source": [
        "myArray=np.array([1,2,3,4,5])\n",
        "print(myArray)"
      ],
      "metadata": {
        "colab": {
          "base_uri": "https://localhost:8080/"
        },
        "id": "r2lBzVoJhiOX",
        "outputId": "ae01ef44-dc01-4887-e86a-f692b3b3c8da"
      },
      "execution_count": 4,
      "outputs": [
        {
          "output_type": "stream",
          "name": "stdout",
          "text": [
            "[1 2 3 4 5]\n"
          ]
        }
      ]
    },
    {
      "cell_type": "code",
      "source": [
        "print(type(myArray))"
      ],
      "metadata": {
        "colab": {
          "base_uri": "https://localhost:8080/"
        },
        "id": "bPljm8ejhzoK",
        "outputId": "b3bcce97-6b06-49cc-85d9-983362775df2"
      },
      "execution_count": 5,
      "outputs": [
        {
          "output_type": "stream",
          "name": "stdout",
          "text": [
            "<class 'numpy.ndarray'>\n"
          ]
        }
      ]
    },
    {
      "cell_type": "code",
      "source": [
        "print(myArray.shape)\n",
        "print(myArray[2])\n",
        "myArray[2]=29\n",
        "print(myArray)"
      ],
      "metadata": {
        "colab": {
          "base_uri": "https://localhost:8080/"
        },
        "id": "bXE9rsC1h8_5",
        "outputId": "d81debda-2d75-48b9-81f8-eda64919ec4a"
      },
      "execution_count": 8,
      "outputs": [
        {
          "output_type": "stream",
          "name": "stdout",
          "text": [
            "(5,)\n",
            "3\n",
            "[ 1  2 29  4  5]\n"
          ]
        }
      ]
    },
    {
      "cell_type": "code",
      "source": [
        "myArray1=np.array([[1,2,3],[4,5,6]])\n",
        "print(myArray)\n",
        "print(myArray1.shape)\n"
      ],
      "metadata": {
        "colab": {
          "base_uri": "https://localhost:8080/"
        },
        "id": "JEPXKW0vit89",
        "outputId": "e050fa9d-e67e-4117-becf-fb2c733c4970"
      },
      "execution_count": 10,
      "outputs": [
        {
          "output_type": "stream",
          "name": "stdout",
          "text": [
            "[ 1  2 29  4  5]\n",
            "(2, 3)\n"
          ]
        }
      ]
    },
    {
      "cell_type": "code",
      "source": [
        "myArray3=np.zeros((5,5))\n",
        "print(myArray3)"
      ],
      "metadata": {
        "colab": {
          "base_uri": "https://localhost:8080/"
        },
        "id": "zItYcNLljD-8",
        "outputId": "18b0c49c-16ca-4afc-fd00-d757ef980309"
      },
      "execution_count": 11,
      "outputs": [
        {
          "output_type": "stream",
          "name": "stdout",
          "text": [
            "[[0. 0. 0. 0. 0.]\n",
            " [0. 0. 0. 0. 0.]\n",
            " [0. 0. 0. 0. 0.]\n",
            " [0. 0. 0. 0. 0.]\n",
            " [0. 0. 0. 0. 0.]]\n"
          ]
        }
      ]
    },
    {
      "cell_type": "code",
      "source": [
        "myArray4=np.full((3,6),10)\n",
        "print(myArray4)\n",
        "myArray5=np.eye(5)\n",
        "print(myArray5)\n",
        "myArray6=np.ones((5,5))\n",
        "print(myArray6)"
      ],
      "metadata": {
        "colab": {
          "base_uri": "https://localhost:8080/"
        },
        "id": "UD-JBw87jUEi",
        "outputId": "4723b218-1cef-4f5c-e746-b4f77124d53d"
      },
      "execution_count": 14,
      "outputs": [
        {
          "output_type": "stream",
          "name": "stdout",
          "text": [
            "[[10 10 10 10 10 10]\n",
            " [10 10 10 10 10 10]\n",
            " [10 10 10 10 10 10]]\n",
            "[[1. 0. 0. 0. 0.]\n",
            " [0. 1. 0. 0. 0.]\n",
            " [0. 0. 1. 0. 0.]\n",
            " [0. 0. 0. 1. 0.]\n",
            " [0. 0. 0. 0. 1.]]\n",
            "[[1. 1. 1. 1. 1.]\n",
            " [1. 1. 1. 1. 1.]\n",
            " [1. 1. 1. 1. 1.]\n",
            " [1. 1. 1. 1. 1.]\n",
            " [1. 1. 1. 1. 1.]]\n"
          ]
        }
      ]
    },
    {
      "cell_type": "code",
      "source": [
        "myArray7=np.random.random((5,5))\n",
        "print(myArray7)"
      ],
      "metadata": {
        "colab": {
          "base_uri": "https://localhost:8080/"
        },
        "id": "2n4bQnphjtPi",
        "outputId": "922c4e1c-c5e3-48eb-bcd2-5538afce605f"
      },
      "execution_count": 15,
      "outputs": [
        {
          "output_type": "stream",
          "name": "stdout",
          "text": [
            "[[0.89023863 0.64863509 0.81984091 0.42240852 0.89089984]\n",
            " [0.03968668 0.4768498  0.13058655 0.66913869 0.57066548]\n",
            " [0.96938586 0.02200032 0.10339436 0.95904833 0.67673421]\n",
            " [0.35183802 0.00801915 0.19895723 0.29368648 0.85389775]\n",
            " [0.6492809  0.16021409 0.85910483 0.56694782 0.67968431]]\n"
          ]
        }
      ]
    },
    {
      "cell_type": "code",
      "source": [
        "myArray8=np.random.randint(100,size=(5,5))\n",
        "print(myArray8)"
      ],
      "metadata": {
        "colab": {
          "base_uri": "https://localhost:8080/"
        },
        "id": "Sp13h19EkBYt",
        "outputId": "63650c71-b8cb-480e-ca9a-1b695d89eeba"
      },
      "execution_count": 17,
      "outputs": [
        {
          "output_type": "stream",
          "name": "stdout",
          "text": [
            "[[67 44 75  4 29]\n",
            " [11 83 55 38 69]\n",
            " [55 47 31 82 29]\n",
            " [ 7 55 10 68 53]\n",
            " [23 12 18 68 96]]\n"
          ]
        }
      ]
    },
    {
      "cell_type": "code",
      "source": [
        "newMatrix=myArray8[:2,:2]\n",
        "print(newMatrix)"
      ],
      "metadata": {
        "colab": {
          "base_uri": "https://localhost:8080/"
        },
        "id": "2oCQ8ApsksMd",
        "outputId": "7c8cf005-71eb-4577-ce83-255db30f0c12"
      },
      "execution_count": 18,
      "outputs": [
        {
          "output_type": "stream",
          "name": "stdout",
          "text": [
            "[[67 44]\n",
            " [11 83]]\n"
          ]
        }
      ]
    },
    {
      "cell_type": "code",
      "source": [
        "myArray8[2,2]=10000\n",
        "print(myArray8)"
      ],
      "metadata": {
        "colab": {
          "base_uri": "https://localhost:8080/"
        },
        "id": "fgKB4zAelaq-",
        "outputId": "a2e22de6-d32a-4fcc-81c4-89e73eed7f5c"
      },
      "execution_count": 19,
      "outputs": [
        {
          "output_type": "stream",
          "name": "stdout",
          "text": [
            "[[   67    44    75     4    29]\n",
            " [   11    83    55    38    69]\n",
            " [   55    47 10000    82    29]\n",
            " [    7    55    10    68    53]\n",
            " [   23    12    18    68    96]]\n"
          ]
        }
      ]
    },
    {
      "cell_type": "code",
      "source": [
        "print(myArray8[2,:])"
      ],
      "metadata": {
        "colab": {
          "base_uri": "https://localhost:8080/"
        },
        "id": "VJzReD5Zl2qg",
        "outputId": "80576ce0-4d1a-4b90-a305-a37515f88fd7"
      },
      "execution_count": 20,
      "outputs": [
        {
          "output_type": "stream",
          "name": "stdout",
          "text": [
            "[   55    47 10000    82    29]\n"
          ]
        }
      ]
    },
    {
      "cell_type": "code",
      "source": [
        "print(myArray8[:,2])"
      ],
      "metadata": {
        "colab": {
          "base_uri": "https://localhost:8080/"
        },
        "id": "wwZVsM7sl__z",
        "outputId": "f605e710-7004-448d-ff48-07b100544535"
      },
      "execution_count": 21,
      "outputs": [
        {
          "output_type": "stream",
          "name": "stdout",
          "text": [
            "[   75    55 10000    10    18]\n"
          ]
        }
      ]
    },
    {
      "cell_type": "code",
      "source": [
        "print(myArray8[:,2].shape)"
      ],
      "metadata": {
        "colab": {
          "base_uri": "https://localhost:8080/"
        },
        "id": "OSmvQOW_mKxE",
        "outputId": "cd98e727-6b26-473b-a00d-8620ef22c3fd"
      },
      "execution_count": 23,
      "outputs": [
        {
          "output_type": "stream",
          "name": "stdout",
          "text": [
            "(5,)\n"
          ]
        }
      ]
    },
    {
      "cell_type": "code",
      "source": [
        "newMatrix=myArray8[1:4,1:4]\n",
        "print(newMatrix)"
      ],
      "metadata": {
        "colab": {
          "base_uri": "https://localhost:8080/"
        },
        "id": "eItMEWPVnZXq",
        "outputId": "cf6f757f-944e-450a-ca45-19ec47b6013b"
      },
      "execution_count": 24,
      "outputs": [
        {
          "output_type": "stream",
          "name": "stdout",
          "text": [
            "[[   83    55    38]\n",
            " [   47 10000    82]\n",
            " [   55    10    68]]\n"
          ]
        }
      ]
    }
  ]
}